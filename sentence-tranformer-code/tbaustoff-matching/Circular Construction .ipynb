{
 "cells": [
  {
   "cell_type": "code",
   "execution_count": 1,
   "id": "76bffef8-d1ef-42f0-b898-ebe54e5af3bc",
   "metadata": {},
   "outputs": [],
   "source": [
    "import matplotlib.pyplot as plt\n",
    "import pandas as pd"
   ]
  },
  {
   "cell_type": "markdown",
   "id": "1fd74936-e7d8-4656-959e-625889b9b9e6",
   "metadata": {},
   "source": [
    "## Step 1 Find out the mapped and unmapped data"
   ]
  },
  {
   "cell_type": "code",
   "execution_count": 8,
   "id": "dcda7490-8405-4d66-b33f-5a13bfb9d8a6",
   "metadata": {},
   "outputs": [
    {
     "data": {
      "text/html": [
       "<div>\n",
       "<style scoped>\n",
       "    .dataframe tbody tr th:only-of-type {\n",
       "        vertical-align: middle;\n",
       "    }\n",
       "\n",
       "    .dataframe tbody tr th {\n",
       "        vertical-align: top;\n",
       "    }\n",
       "\n",
       "    .dataframe thead th {\n",
       "        text-align: right;\n",
       "    }\n",
       "</style>\n",
       "<table border=\"1\" class=\"dataframe\">\n",
       "  <thead>\n",
       "    <tr style=\"text-align: right;\">\n",
       "      <th></th>\n",
       "      <th>oekobaudatProcessUuid</th>\n",
       "      <th>oekobaudatDatastockUuid</th>\n",
       "      <th>oekobaudatDatastockName</th>\n",
       "      <th>productId</th>\n",
       "      <th>tBaustoffVersion</th>\n",
       "      <th>productName</th>\n",
       "      <th>eolCategoryId</th>\n",
       "      <th>eolCategoryName</th>\n",
       "      <th>eolScenarioUnbuiltReal</th>\n",
       "      <th>eolScenarioUnbuiltPotential</th>\n",
       "      <th>technologyFactor</th>\n",
       "    </tr>\n",
       "  </thead>\n",
       "  <tbody>\n",
       "    <tr>\n",
       "      <th>0</th>\n",
       "      <td>3b1f0c75-07a4-4182-b310-5529fc5b54a6</td>\n",
       "      <td>22885a6e-1765-4ade-a35e-ae668bd07256</td>\n",
       "      <td>OBD_2023_I</td>\n",
       "      <td>1</td>\n",
       "      <td>2024-Q4</td>\n",
       "      <td>Acetyliertes Holz</td>\n",
       "      <td>1</td>\n",
       "      <td>Holz - acetyliert</td>\n",
       "      <td>EV+</td>\n",
       "      <td>EV+</td>\n",
       "      <td>0.0</td>\n",
       "    </tr>\n",
       "  </tbody>\n",
       "</table>\n",
       "</div>"
      ],
      "text/plain": [
       "                  oekobaudatProcessUuid               oekobaudatDatastockUuid  \\\n",
       "0  3b1f0c75-07a4-4182-b310-5529fc5b54a6  22885a6e-1765-4ade-a35e-ae668bd07256   \n",
       "\n",
       "  oekobaudatDatastockName  productId tBaustoffVersion         productName  \\\n",
       "0              OBD_2023_I          1          2024-Q4  Acetyliertes Holz    \n",
       "\n",
       "   eolCategoryId    eolCategoryName eolScenarioUnbuiltReal  \\\n",
       "0              1  Holz - acetyliert                    EV+   \n",
       "\n",
       "  eolScenarioUnbuiltPotential  technologyFactor  \n",
       "0                         EV+               0.0  "
      ]
     },
     "execution_count": 8,
     "metadata": {},
     "output_type": "execute_result"
    }
   ],
   "source": [
    "path = \"C:\\\\Users\\\\ASUS\\\\Downloads\\\\tBaustoff_with_OBD_mapping.csv\"\n",
    "df = pd.read_csv(path)\n",
    "tbaustoff_df = df.copy()\n",
    "tbaustoff_df.head(1)"
   ]
  },
  {
   "cell_type": "code",
   "execution_count": 10,
   "id": "19b61081-8cc1-4dd5-8636-cf89d488dbda",
   "metadata": {},
   "outputs": [
    {
     "name": "stdout",
     "output_type": "stream",
     "text": [
      "Columns: ['oekobaudatProcessUuid', 'oekobaudatDatastockUuid', 'oekobaudatDatastockName', 'productId', 'tBaustoffVersion', 'productName', 'eolCategoryId', 'eolCategoryName', 'eolScenarioUnbuiltReal', 'eolScenarioUnbuiltPotential', 'technologyFactor']\n"
     ]
    }
   ],
   "source": [
    "print(\"Columns:\", tbaustoff_df.columns.tolist())"
   ]
  },
  {
   "cell_type": "code",
   "execution_count": 12,
   "id": "452f8f02-bfaa-4b61-844b-682205d3b37d",
   "metadata": {},
   "outputs": [
    {
     "name": "stdout",
     "output_type": "stream",
     "text": [
      "Mapped entries: 728\n",
      "Unmapped entries: 87\n",
      "Total entries: 815\n"
     ]
    }
   ],
   "source": [
    "mapped_count = tbaustoff_df[\"oekobaudatProcessUuid\"].notna().sum()\n",
    "unmapped_count = tbaustoff_df[\"oekobaudatProcessUuid\"].isna().sum()\n",
    "total_count = len(tbaustoff_df)\n",
    "\n",
    "print(f\"Mapped entries: {mapped_count}\")\n",
    "print(f\"Unmapped entries: {unmapped_count}\")\n",
    "print(f\"Total entries: {total_count}\")"
   ]
  },
  {
   "cell_type": "code",
   "execution_count": 14,
   "id": "cd667d6e-4a87-43b6-9b6e-2862696ee992",
   "metadata": {},
   "outputs": [
    {
     "data": {
      "text/html": [
       "<div>\n",
       "<style scoped>\n",
       "    .dataframe tbody tr th:only-of-type {\n",
       "        vertical-align: middle;\n",
       "    }\n",
       "\n",
       "    .dataframe tbody tr th {\n",
       "        vertical-align: top;\n",
       "    }\n",
       "\n",
       "    .dataframe thead th {\n",
       "        text-align: right;\n",
       "    }\n",
       "</style>\n",
       "<table border=\"1\" class=\"dataframe\">\n",
       "  <thead>\n",
       "    <tr style=\"text-align: right;\">\n",
       "      <th></th>\n",
       "      <th>oekobaudatProcessUuid</th>\n",
       "      <th>oekobaudatDatastockUuid</th>\n",
       "      <th>oekobaudatDatastockName</th>\n",
       "      <th>productId</th>\n",
       "      <th>tBaustoffVersion</th>\n",
       "      <th>productName</th>\n",
       "      <th>eolCategoryId</th>\n",
       "      <th>eolCategoryName</th>\n",
       "      <th>eolScenarioUnbuiltReal</th>\n",
       "      <th>eolScenarioUnbuiltPotential</th>\n",
       "      <th>technologyFactor</th>\n",
       "    </tr>\n",
       "  </thead>\n",
       "  <tbody>\n",
       "    <tr>\n",
       "      <th>16</th>\n",
       "      <td>NaN</td>\n",
       "      <td>NaN</td>\n",
       "      <td>NaN</td>\n",
       "      <td>5</td>\n",
       "      <td>2024-Q4</td>\n",
       "      <td>Asphalttragschicht - Hochbau</td>\n",
       "      <td>4</td>\n",
       "      <td>Asphalt (Hochbau)</td>\n",
       "      <td>Dep+</td>\n",
       "      <td>CL+</td>\n",
       "      <td>0.75</td>\n",
       "    </tr>\n",
       "  </tbody>\n",
       "</table>\n",
       "</div>"
      ],
      "text/plain": [
       "   oekobaudatProcessUuid oekobaudatDatastockUuid oekobaudatDatastockName  \\\n",
       "16                   NaN                     NaN                     NaN   \n",
       "\n",
       "    productId tBaustoffVersion                   productName  eolCategoryId  \\\n",
       "16          5          2024-Q4  Asphalttragschicht - Hochbau              4   \n",
       "\n",
       "      eolCategoryName eolScenarioUnbuiltReal eolScenarioUnbuiltPotential  \\\n",
       "16  Asphalt (Hochbau)                   Dep+                         CL+   \n",
       "\n",
       "    technologyFactor  \n",
       "16              0.75  "
      ]
     },
     "execution_count": 14,
     "metadata": {},
     "output_type": "execute_result"
    }
   ],
   "source": [
    "unmapped_df = tbaustoff_df[tbaustoff_df[\"oekobaudatProcessUuid\"].isna()]\n",
    "unmapped_df.head(1)"
   ]
  },
  {
   "cell_type": "code",
   "execution_count": 20,
   "id": "e86a8fae-55df-419b-91ca-3b2c842f75aa",
   "metadata": {},
   "outputs": [
    {
     "data": {
      "text/html": [
       "<div>\n",
       "<style scoped>\n",
       "    .dataframe tbody tr th:only-of-type {\n",
       "        vertical-align: middle;\n",
       "    }\n",
       "\n",
       "    .dataframe tbody tr th {\n",
       "        vertical-align: top;\n",
       "    }\n",
       "\n",
       "    .dataframe thead th {\n",
       "        text-align: right;\n",
       "    }\n",
       "</style>\n",
       "<table border=\"1\" class=\"dataframe\">\n",
       "  <thead>\n",
       "    <tr style=\"text-align: right;\">\n",
       "      <th></th>\n",
       "      <th>Baumaterial ohne Fremd-/Störstoffe</th>\n",
       "      <th>Fremd-/Störstoffbeschreibung</th>\n",
       "      <th>Störstoffklasse</th>\n",
       "    </tr>\n",
       "  </thead>\n",
       "  <tbody>\n",
       "    <tr>\n",
       "      <th>0</th>\n",
       "      <td>Gussasphaltestrich</td>\n",
       "      <td>ohne Fremd-/Störstoffe</td>\n",
       "      <td>S0</td>\n",
       "    </tr>\n",
       "  </tbody>\n",
       "</table>\n",
       "</div>"
      ],
      "text/plain": [
       "  Baumaterial ohne Fremd-/Störstoffe Fremd-/Störstoffbeschreibung  \\\n",
       "0                 Gussasphaltestrich       ohne Fremd-/Störstoffe   \n",
       "\n",
       "  Störstoffklasse  \n",
       "0              S0  "
      ]
     },
     "execution_count": 20,
     "metadata": {},
     "output_type": "execute_result"
    }
   ],
   "source": [
    "path2 = \"C:\\\\Users\\\\ASUS\\\\Downloads\\\\pollutant_combinations.csv\"\n",
    "df_n = pd.read_csv(path2)\n",
    "df2 = df_n.copy()\n",
    "df2.head(1)"
   ]
  },
  {
   "cell_type": "code",
   "execution_count": 22,
   "id": "8a4829f7-9cd8-4fec-9cb9-285d9cee9968",
   "metadata": {},
   "outputs": [
    {
     "name": "stdout",
     "output_type": "stream",
     "text": [
      "Columns: ['Baumaterial ohne Fremd-/Störstoffe', 'Fremd-/Störstoffbeschreibung', 'Störstoffklasse']\n"
     ]
    }
   ],
   "source": [
    "print(\"Columns:\", df2.columns.tolist())"
   ]
  },
  {
   "cell_type": "markdown",
   "id": "d83b2f6d-2ad1-4f0e-91c4-a800ad63adc8",
   "metadata": {},
   "source": [
    "## step 2 Get generic Data set from OBD of all years"
   ]
  },
  {
   "cell_type": "code",
   "execution_count": 27,
   "id": "89d2cd11-3a50-4f7b-bba6-22bf511eb395",
   "metadata": {},
   "outputs": [
    {
     "name": "stderr",
     "output_type": "stream",
     "text": [
      "C:\\Users\\ASUS\\AppData\\Local\\Temp\\ipykernel_18080\\2852576982.py:3: DtypeWarning: Columns (19) have mixed types. Specify dtype option on import or set low_memory=False.\n",
      "  obd_2023_df = pd.read_csv(\"C:\\\\Users\\\\ASUS\\\\Downloads\\\\OBD_2023_I.csv\", delimiter=';', encoding='ISO-8859-1')\n",
      "C:\\Users\\ASUS\\AppData\\Local\\Temp\\ipykernel_18080\\2852576982.py:4: DtypeWarning: Columns (36,37,38,39,40,41,42) have mixed types. Specify dtype option on import or set low_memory=False.\n",
      "  obd_2024_df = pd.read_csv(\"C:\\\\Users\\\\ASUS\\\\Downloads\\\\OBD_2024_I.csv\", delimiter=';', encoding='ISO-8859-1')\n",
      "C:\\Users\\ASUS\\AppData\\Local\\Temp\\ipykernel_18080\\2852576982.py:12: FutureWarning: The behavior of DataFrame concatenation with empty or all-NA entries is deprecated. In a future version, this will no longer exclude empty or all-NA columns when determining the result dtypes. To retain the old behavior, exclude the relevant entries before the concat operation.\n",
      "  generic_all_years_df = pd.concat([generic_2020, generic_2023, generic_2024], ignore_index=True)\n"
     ]
    },
    {
     "name": "stdout",
     "output_type": "stream",
     "text": [
      "Total generic materials: 7991\n",
      "                                   UUID                             Name (en)  \\\n",
      "0  fa5119d5-b0b8-4774-9c23-928f6894bd50             Electricity grid mix 2018   \n",
      "1  a4fb9ec0-d5ae-414b-a0a1-2cf7f586022d  Precast concrete slab, ceiling, 40cm   \n",
      "2  3470c523-ffcd-48df-93ff-dedfde86572a     Precast concrete slab, wall, 40cm   \n",
      "3  ffff2074-fae0-4b5c-b801-af80f5ce633a                           Cable CAT 7   \n",
      "4  ffff2074-fae0-4b5c-b801-af80f5ce633a                           Cable CAT 7   \n",
      "\n",
      "               Typ  \n",
      "0  generic dataset  \n",
      "1  generic dataset  \n",
      "2  generic dataset  \n",
      "3  generic dataset  \n",
      "4  generic dataset  \n"
     ]
    }
   ],
   "source": [
    "# Load all three OBD files (adjust paths as needed)\n",
    "obd_2020_df = pd.read_csv(\n",
    "    \"C:\\\\Users\\\\ASUS\\\\Downloads\\\\OBD_2020_II.csv\", delimiter=\";\", encoding=\"ISO-8859-1\"\n",
    ")\n",
    "obd_2023_df = pd.read_csv(\n",
    "    \"C:\\\\Users\\\\ASUS\\\\Downloads\\\\OBD_2023_I.csv\", delimiter=\";\", encoding=\"ISO-8859-1\"\n",
    ")\n",
    "obd_2024_df = pd.read_csv(\n",
    "    \"C:\\\\Users\\\\ASUS\\\\Downloads\\\\OBD_2024_I.csv\", delimiter=\";\", encoding=\"ISO-8859-1\"\n",
    ")\n",
    "\n",
    "# Filter for only \"generic dataset\" entries\n",
    "generic_2020 = obd_2020_df[obd_2020_df[\"Typ\"] == \"generic dataset\"]\n",
    "generic_2023 = obd_2023_df[obd_2023_df[\"Typ\"] == \"generic dataset\"]\n",
    "generic_2024 = obd_2024_df[obd_2024_df[\"Typ\"] == \"generic dataset\"]\n",
    "\n",
    "# Combine all generic materials into one DataFrame\n",
    "generic_all_years_df = pd.concat(\n",
    "    [generic_2020, generic_2023, generic_2024], ignore_index=True\n",
    ")\n",
    "\n",
    "# Optional: Save it to a CSV for review\n",
    "generic_all_years_df.to_csv(\"generic_materials_combined.csv\", index=False, sep=\";\")\n",
    "\n",
    "# Print summary\n",
    "print(\"Total generic materials:\", len(generic_all_years_df))\n",
    "print(generic_all_years_df[[\"UUID\", \"Name (en)\", \"Typ\"]].head())"
   ]
  },
  {
   "cell_type": "code",
   "execution_count": 41,
   "id": "edfa0a53-aaad-43b8-b670-05ff46aa7ea9",
   "metadata": {},
   "outputs": [
    {
     "data": {
      "text/html": [
       "<div>\n",
       "<style scoped>\n",
       "    .dataframe tbody tr th:only-of-type {\n",
       "        vertical-align: middle;\n",
       "    }\n",
       "\n",
       "    .dataframe tbody tr th {\n",
       "        vertical-align: top;\n",
       "    }\n",
       "\n",
       "    .dataframe thead th {\n",
       "        text-align: right;\n",
       "    }\n",
       "</style>\n",
       "<table border=\"1\" class=\"dataframe\">\n",
       "  <thead>\n",
       "    <tr style=\"text-align: right;\">\n",
       "      <th></th>\n",
       "      <th>UUID</th>\n",
       "      <th>Version</th>\n",
       "      <th>Name (de)</th>\n",
       "      <th>Name (en)</th>\n",
       "      <th>Kategorie (original)</th>\n",
       "      <th>Kategorie (en)</th>\n",
       "      <th>Konformität</th>\n",
       "      <th>Laenderkennung</th>\n",
       "      <th>Typ</th>\n",
       "      <th>Referenzjahr</th>\n",
       "      <th>...</th>\n",
       "      <th>IRP (A2)</th>\n",
       "      <th>SOP (A2)</th>\n",
       "      <th>ODP (A2)</th>\n",
       "      <th>POCP (A2)</th>\n",
       "      <th>ADPF (A2)</th>\n",
       "      <th>ADPE (A2)</th>\n",
       "      <th>WDP (A2)</th>\n",
       "      <th>Unnamed: 79</th>\n",
       "      <th>Stueckgewicht (kg)</th>\n",
       "      <th>Unnamed: 80</th>\n",
       "    </tr>\n",
       "  </thead>\n",
       "  <tbody>\n",
       "    <tr>\n",
       "      <th>0</th>\n",
       "      <td>fa5119d5-b0b8-4774-9c23-928f6894bd50</td>\n",
       "      <td>20.19.010</td>\n",
       "      <td>Strom für Gebäudebetrieb 2018</td>\n",
       "      <td>Electricity grid mix 2018</td>\n",
       "      <td>'Gebäudetechnik' / 'Nutzung' / 'Nutzung Wärmee...</td>\n",
       "      <td>'Building service engineering' / 'Use' / 'Use ...</td>\n",
       "      <td>'DIN EN 15804'</td>\n",
       "      <td>DE</td>\n",
       "      <td>generic dataset</td>\n",
       "      <td>2017.0</td>\n",
       "      <td>...</td>\n",
       "      <td>NaN</td>\n",
       "      <td>NaN</td>\n",
       "      <td>NaN</td>\n",
       "      <td>NaN</td>\n",
       "      <td>NaN</td>\n",
       "      <td>NaN</td>\n",
       "      <td>NaN</td>\n",
       "      <td>NaN</td>\n",
       "      <td>NaN</td>\n",
       "      <td>NaN</td>\n",
       "    </tr>\n",
       "  </tbody>\n",
       "</table>\n",
       "<p>1 rows × 82 columns</p>\n",
       "</div>"
      ],
      "text/plain": [
       "                                   UUID    Version  \\\n",
       "0  fa5119d5-b0b8-4774-9c23-928f6894bd50  20.19.010   \n",
       "\n",
       "                       Name (de)                  Name (en)  \\\n",
       "0  Strom für Gebäudebetrieb 2018  Electricity grid mix 2018   \n",
       "\n",
       "                                Kategorie (original)  \\\n",
       "0  'Gebäudetechnik' / 'Nutzung' / 'Nutzung Wärmee...   \n",
       "\n",
       "                                      Kategorie (en)     Konformität  \\\n",
       "0  'Building service engineering' / 'Use' / 'Use ...  'DIN EN 15804'   \n",
       "\n",
       "  Laenderkennung              Typ  Referenzjahr  ...  IRP (A2) SOP (A2)  \\\n",
       "0             DE  generic dataset        2017.0  ...       NaN      NaN   \n",
       "\n",
       "  ODP (A2) POCP (A2) ADPF (A2) ADPE (A2) WDP (A2) Unnamed: 79  \\\n",
       "0      NaN       NaN       NaN       NaN      NaN         NaN   \n",
       "\n",
       "   Stueckgewicht (kg) Unnamed: 80  \n",
       "0                 NaN         NaN  \n",
       "\n",
       "[1 rows x 82 columns]"
      ]
     },
     "execution_count": 41,
     "metadata": {},
     "output_type": "execute_result"
    }
   ],
   "source": [
    "generic_all_years_df.head(1)"
   ]
  },
  {
   "cell_type": "code",
   "execution_count": 51,
   "id": "19a29a7e-053a-42bb-9712-6ebeed7bb17e",
   "metadata": {},
   "outputs": [
    {
     "name": "stdout",
     "output_type": "stream",
     "text": [
      "✅ generic_materials_clean_version.csv created successfully!\n"
     ]
    }
   ],
   "source": [
    "# Select important columns\n",
    "important_columns = [\n",
    "    \"UUID\",\n",
    "    \"Name (de)\",\n",
    "    \"Name (en)\",\n",
    "    \"Kategorie (en)\",\n",
    "    \"Schuettdichte (kg/m3)\",  # Bulk density\n",
    "    \"Flaechengewicht (kg/m2)\",  # Area weight\n",
    "    \"Rohdichte (kg/m3)\",  # Raw density\n",
    "    \"Schichtdicke (m)\",  # Layer thickness\n",
    "    \"GWP\",  # Global Warming Potential\n",
    "    \"ODP\",  # Ozone Depletion Potential\n",
    "    \"POCP\",  # Photochemical Ozone Creation Potential\n",
    "    \"AP\",  # Acidification Potential\n",
    "    \"EP\",  # Eutrophication Potential\n",
    "    \"Typ\",\n",
    "]\n",
    "\n",
    "# Create cleaned DataFrame\n",
    "clean_generic_df = generic_all_years_df[important_columns]\n",
    "\n",
    "# Save it to a new CSV file\n",
    "clean_generic_df.to_csv(\"generic_materials_clean_version.csv\", index=False, sep=\";\")\n",
    "\n",
    "print(\"✅ generic_materials_clean_version.csv created successfully!\")"
   ]
  },
  {
   "cell_type": "code",
   "execution_count": 21,
   "id": "a9862841-5d93-4f72-9b7d-b6a058a86b6f",
   "metadata": {},
   "outputs": [
    {
     "name": "stdout",
     "output_type": "stream",
     "text": [
      "Columns: ['UUID', 'Version', 'Name (de)', 'Name (en)', 'Kategorie (original)', 'Kategorie (en)', 'Konformität', 'Laenderkennung', 'Typ', 'Referenzjahr', 'Gueltig bis', 'URL', 'Declaration owner', 'Veroeffentlicht am', 'Registrierungsnummer', 'Registrierungsstelle', 'UUID des Vorgängers', 'Version des Vorgängers', 'URL des Vorgängers', 'Bezugsgroesse', 'Bezugseinheit', 'Referenzfluss-UUID', 'Referenzfluss-Name', 'Schuettdichte (kg/m3)', 'Flaechengewicht (kg/m2)', 'Rohdichte (kg/m3)', 'Schichtdicke (m)', 'Ergiebigkeit (m2)', 'Laengengewicht (kg/m)', 'Umrechungsfaktor auf 1kg', 'biogener Kohlenstoffgehalt in kg', 'biogener Kohlenstoffgehalt (Verpackung) in kg', 'Modul', 'Szenario', 'Szenariobeschreibung', 'GWP', 'ODP', 'POCP', 'AP', 'EP', 'ADPE', 'ADPF', 'PERE', 'PERM', 'PERT', 'PENRE', 'PENRM', 'PENRT', 'SM', 'RSF', 'NRSF', 'FW', 'HWD', 'NHWD', 'RWD', 'CRU', 'MFR', 'MER', 'EEE', 'EET', 'AP (A2)', 'GWPtotal (A2)', 'GWPbiogenic (A2)', 'GWPfossil (A2)', 'GWPluluc (A2)', 'ETPfw (A2)', 'PM (A2)', 'EPmarine (A2)', 'EPfreshwater (A2)', 'EPterrestrial (A2)', 'HTPc (A2)', 'HTPnc (A2)', 'IRP (A2)', 'SOP (A2)', 'ODP (A2)', 'POCP (A2)', 'ADPF (A2)', 'ADPE (A2)', 'WDP (A2)', 'Unnamed: 79', 'Stueckgewicht (kg)', 'Unnamed: 80']\n"
     ]
    }
   ],
   "source": [
    "print(\"Columns:\", generic_all_years_df.columns.tolist())"
   ]
  },
  {
   "cell_type": "code",
   "execution_count": 23,
   "id": "b63b73e2-3f82-4933-bfeb-f7381497c061",
   "metadata": {},
   "outputs": [
    {
     "name": "stdout",
     "output_type": "stream",
     "text": [
      "Total generic materials: 7991\n",
      "Uuid present rows: 7991\n",
      "Uuid missing rows: 0\n",
      "Fully empty rows: 0\n",
      "Uuid matches with tbaustoff: 3810\n",
      "Uuid not mapped to tbaustoff: 4181\n"
     ]
    }
   ],
   "source": [
    "summary = {\n",
    "    \"total_generic_materials\": len(generic_all_years_df),\n",
    "    \"uuid_present_rows\": generic_all_years_df[\"UUID\"].notna().sum(),\n",
    "    \"uuid_missing_rows\": generic_all_years_df[\"UUID\"].isna().sum(),\n",
    "    \"fully_empty_rows\": generic_all_years_df.isna().all(axis=1).sum(),\n",
    "    # \"fully_filled_rows\": generic_all_years_df.notna().all(axis=1).sum(),\n",
    "}\n",
    "\n",
    "# Count how many UUIDs match mapped tBaustoff entries\n",
    "mapped_uuids = tbaustoff_df[\"oekobaudatProcessUuid\"].unique()\n",
    "summary[\"uuid_matches_with_tbaustoff\"] = (\n",
    "    generic_all_years_df[\"UUID\"].isin(mapped_uuids).sum()\n",
    ")\n",
    "summary[\"uuid_not_mapped_to_tbaustoff\"] = (\n",
    "    summary[\"uuid_present_rows\"] - summary[\"uuid_matches_with_tbaustoff\"]\n",
    ")\n",
    "\n",
    "# Print result\n",
    "for key, value in summary.items():\n",
    "    print(f\"{key.replace('_', ' ').capitalize()}: {value}\")"
   ]
  },
  {
   "cell_type": "markdown",
   "id": "769e658e-7e4f-4942-b159-3cbb8cadc924",
   "metadata": {},
   "source": [
    "## Step 3 Matches with cosine similarity via TF-IDF"
   ]
  },
  {
   "cell_type": "code",
   "execution_count": 26,
   "id": "e735dda7-873c-4f5d-a465-dfb7501db659",
   "metadata": {},
   "outputs": [
    {
     "name": "stdout",
     "output_type": "stream",
     "text": [
      "Requirement already satisfied: pandas in c:\\users\\asus\\anaconda3\\lib\\site-packages (2.2.2)\n",
      "Requirement already satisfied: sentence-transformers in c:\\users\\asus\\anaconda3\\lib\\site-packages (4.1.0)\n",
      "Requirement already satisfied: scikit-learn in c:\\users\\asus\\anaconda3\\lib\\site-packages (1.4.2)\n",
      "Requirement already satisfied: matplotlib in c:\\users\\asus\\anaconda3\\lib\\site-packages (3.8.4)\n",
      "Requirement already satisfied: numpy>=1.26.0 in c:\\users\\asus\\anaconda3\\lib\\site-packages (from pandas) (1.26.4)\n",
      "Requirement already satisfied: python-dateutil>=2.8.2 in c:\\users\\asus\\anaconda3\\lib\\site-packages (from pandas) (2.9.0.post0)\n",
      "Requirement already satisfied: pytz>=2020.1 in c:\\users\\asus\\anaconda3\\lib\\site-packages (from pandas) (2024.1)\n",
      "Requirement already satisfied: tzdata>=2022.7 in c:\\users\\asus\\anaconda3\\lib\\site-packages (from pandas) (2023.3)\n",
      "Requirement already satisfied: transformers<5.0.0,>=4.41.0 in c:\\users\\asus\\anaconda3\\lib\\site-packages (from sentence-transformers) (4.51.3)\n",
      "Requirement already satisfied: tqdm in c:\\users\\asus\\anaconda3\\lib\\site-packages (from sentence-transformers) (4.66.4)\n",
      "Requirement already satisfied: torch>=1.11.0 in c:\\users\\asus\\anaconda3\\lib\\site-packages (from sentence-transformers) (2.6.0)\n",
      "Requirement already satisfied: scipy in c:\\users\\asus\\anaconda3\\lib\\site-packages (from sentence-transformers) (1.13.1)\n",
      "Requirement already satisfied: huggingface-hub>=0.20.0 in c:\\users\\asus\\anaconda3\\lib\\site-packages (from sentence-transformers) (0.30.2)\n",
      "Requirement already satisfied: Pillow in c:\\users\\asus\\anaconda3\\lib\\site-packages (from sentence-transformers) (10.3.0)\n",
      "Requirement already satisfied: typing_extensions>=4.5.0 in c:\\users\\asus\\anaconda3\\lib\\site-packages (from sentence-transformers) (4.11.0)\n",
      "Requirement already satisfied: joblib>=1.2.0 in c:\\users\\asus\\anaconda3\\lib\\site-packages (from scikit-learn) (1.4.2)\n",
      "Requirement already satisfied: threadpoolctl>=2.0.0 in c:\\users\\asus\\anaconda3\\lib\\site-packages (from scikit-learn) (2.2.0)\n",
      "Requirement already satisfied: contourpy>=1.0.1 in c:\\users\\asus\\anaconda3\\lib\\site-packages (from matplotlib) (1.2.0)\n",
      "Requirement already satisfied: cycler>=0.10 in c:\\users\\asus\\anaconda3\\lib\\site-packages (from matplotlib) (0.11.0)\n",
      "Requirement already satisfied: fonttools>=4.22.0 in c:\\users\\asus\\anaconda3\\lib\\site-packages (from matplotlib) (4.51.0)\n",
      "Requirement already satisfied: kiwisolver>=1.3.1 in c:\\users\\asus\\anaconda3\\lib\\site-packages (from matplotlib) (1.4.4)\n",
      "Requirement already satisfied: packaging>=20.0 in c:\\users\\asus\\anaconda3\\lib\\site-packages (from matplotlib) (23.2)\n",
      "Requirement already satisfied: pyparsing>=2.3.1 in c:\\users\\asus\\anaconda3\\lib\\site-packages (from matplotlib) (3.0.9)\n",
      "Requirement already satisfied: filelock in c:\\users\\asus\\anaconda3\\lib\\site-packages (from huggingface-hub>=0.20.0->sentence-transformers) (3.13.1)\n",
      "Requirement already satisfied: fsspec>=2023.5.0 in c:\\users\\asus\\anaconda3\\lib\\site-packages (from huggingface-hub>=0.20.0->sentence-transformers) (2024.3.1)\n",
      "Requirement already satisfied: pyyaml>=5.1 in c:\\users\\asus\\anaconda3\\lib\\site-packages (from huggingface-hub>=0.20.0->sentence-transformers) (6.0.1)\n",
      "Requirement already satisfied: requests in c:\\users\\asus\\anaconda3\\lib\\site-packages (from huggingface-hub>=0.20.0->sentence-transformers) (2.32.2)\n",
      "Requirement already satisfied: six>=1.5 in c:\\users\\asus\\anaconda3\\lib\\site-packages (from python-dateutil>=2.8.2->pandas) (1.16.0)\n",
      "Requirement already satisfied: networkx in c:\\users\\asus\\anaconda3\\lib\\site-packages (from torch>=1.11.0->sentence-transformers) (3.2.1)\n",
      "Requirement already satisfied: jinja2 in c:\\users\\asus\\anaconda3\\lib\\site-packages (from torch>=1.11.0->sentence-transformers) (3.1.4)\n",
      "Requirement already satisfied: setuptools in c:\\users\\asus\\anaconda3\\lib\\site-packages (from torch>=1.11.0->sentence-transformers) (69.5.1)\n",
      "Requirement already satisfied: sympy==1.13.1 in c:\\users\\asus\\anaconda3\\lib\\site-packages (from torch>=1.11.0->sentence-transformers) (1.13.1)\n",
      "Requirement already satisfied: mpmath<1.4,>=1.1.0 in c:\\users\\asus\\anaconda3\\lib\\site-packages (from sympy==1.13.1->torch>=1.11.0->sentence-transformers) (1.3.0)\n",
      "Requirement already satisfied: colorama in c:\\users\\asus\\anaconda3\\lib\\site-packages (from tqdm->sentence-transformers) (0.4.6)\n",
      "Requirement already satisfied: regex!=2019.12.17 in c:\\users\\asus\\anaconda3\\lib\\site-packages (from transformers<5.0.0,>=4.41.0->sentence-transformers) (2023.10.3)\n",
      "Requirement already satisfied: tokenizers<0.22,>=0.21 in c:\\users\\asus\\anaconda3\\lib\\site-packages (from transformers<5.0.0,>=4.41.0->sentence-transformers) (0.21.1)\n",
      "Requirement already satisfied: safetensors>=0.4.3 in c:\\users\\asus\\anaconda3\\lib\\site-packages (from transformers<5.0.0,>=4.41.0->sentence-transformers) (0.5.3)\n",
      "Requirement already satisfied: MarkupSafe>=2.0 in c:\\users\\asus\\anaconda3\\lib\\site-packages (from jinja2->torch>=1.11.0->sentence-transformers) (2.1.3)\n",
      "Requirement already satisfied: charset-normalizer<4,>=2 in c:\\users\\asus\\anaconda3\\lib\\site-packages (from requests->huggingface-hub>=0.20.0->sentence-transformers) (2.0.4)\n",
      "Requirement already satisfied: idna<4,>=2.5 in c:\\users\\asus\\anaconda3\\lib\\site-packages (from requests->huggingface-hub>=0.20.0->sentence-transformers) (3.7)\n",
      "Requirement already satisfied: urllib3<3,>=1.21.1 in c:\\users\\asus\\anaconda3\\lib\\site-packages (from requests->huggingface-hub>=0.20.0->sentence-transformers) (2.2.2)\n",
      "Requirement already satisfied: certifi>=2017.4.17 in c:\\users\\asus\\anaconda3\\lib\\site-packages (from requests->huggingface-hub>=0.20.0->sentence-transformers) (2024.8.30)\n"
     ]
    }
   ],
   "source": [
    "!pip install pandas sentence-transformers scikit-learn matplotlib"
   ]
  },
  {
   "cell_type": "code",
   "execution_count": 30,
   "id": "905eed14-f022-4b81-8059-356714fc711f",
   "metadata": {},
   "outputs": [],
   "source": [
    "from sklearn.feature_extraction.text import TfidfVectorizer\n",
    "from sklearn.metrics.pairwise import cosine_similarity"
   ]
  },
  {
   "cell_type": "code",
   "execution_count": 32,
   "id": "d971b95f-1c4e-4be7-be13-e7ffea0badae",
   "metadata": {},
   "outputs": [
    {
     "name": "stdout",
     "output_type": "stream",
     "text": [
      "Matching complete. Results saved to 'top_matches.csv'.\n"
     ]
    },
    {
     "data": {
      "text/html": [
       "<div>\n",
       "<style scoped>\n",
       "    .dataframe tbody tr th:only-of-type {\n",
       "        vertical-align: middle;\n",
       "    }\n",
       "\n",
       "    .dataframe tbody tr th {\n",
       "        vertical-align: top;\n",
       "    }\n",
       "\n",
       "    .dataframe thead th {\n",
       "        text-align: right;\n",
       "    }\n",
       "</style>\n",
       "<table border=\"1\" class=\"dataframe\">\n",
       "  <thead>\n",
       "    <tr style=\"text-align: right;\">\n",
       "      <th></th>\n",
       "      <th>Specific_Name</th>\n",
       "      <th>UUID</th>\n",
       "      <th>Name (en)</th>\n",
       "      <th>Name_Similarity</th>\n",
       "      <th>Year_Match</th>\n",
       "      <th>Unit_Match</th>\n",
       "      <th>Final_Score</th>\n",
       "    </tr>\n",
       "  </thead>\n",
       "  <tbody>\n",
       "    <tr>\n",
       "      <th>0</th>\n",
       "      <td>Asphalttragschicht - Hochbau</td>\n",
       "      <td>8f4e4fdb-fa6c-46b3-8680-57120c4bee5e</td>\n",
       "      <td>Cement (CEM III 42,5)</td>\n",
       "      <td>0.0</td>\n",
       "      <td>1</td>\n",
       "      <td>1</td>\n",
       "      <td>0.3</td>\n",
       "    </tr>\n",
       "    <tr>\n",
       "      <th>1</th>\n",
       "      <td>Balkenschichtholz Nadelholz - unbeschichtet, n...</td>\n",
       "      <td>8f4e4fdb-fa6c-46b3-8680-57120c4bee5e</td>\n",
       "      <td>Cement (CEM III 42,5)</td>\n",
       "      <td>0.0</td>\n",
       "      <td>1</td>\n",
       "      <td>1</td>\n",
       "      <td>0.3</td>\n",
       "    </tr>\n",
       "  </tbody>\n",
       "</table>\n",
       "</div>"
      ],
      "text/plain": [
       "                                       Specific_Name  \\\n",
       "0                       Asphalttragschicht - Hochbau   \n",
       "1  Balkenschichtholz Nadelholz - unbeschichtet, n...   \n",
       "\n",
       "                                   UUID              Name (en)  \\\n",
       "0  8f4e4fdb-fa6c-46b3-8680-57120c4bee5e  Cement (CEM III 42,5)   \n",
       "1  8f4e4fdb-fa6c-46b3-8680-57120c4bee5e  Cement (CEM III 42,5)   \n",
       "\n",
       "   Name_Similarity  Year_Match  Unit_Match  Final_Score  \n",
       "0              0.0           1           1          0.3  \n",
       "1              0.0           1           1          0.3  "
      ]
     },
     "execution_count": 32,
     "metadata": {},
     "output_type": "execute_result"
    }
   ],
   "source": [
    "# Get only unmapped tBaustoff entries\n",
    "unmapped_df = tbaustoff_df[tbaustoff_df[\"oekobaudatProcessUuid\"].isna()].copy()\n",
    "\n",
    "# Fill nulls\n",
    "generic_all_years_df[\"Name (en)\"] = generic_all_years_df[\"Name (en)\"].fillna(\"\")\n",
    "generic_all_years_df[\"Bezugseinheit\"] = generic_all_years_df[\"Bezugseinheit\"].fillna(\"\")\n",
    "generic_all_years_df[\"Referenzjahr\"] = pd.to_numeric(\n",
    "    generic_all_years_df[\"Referenzjahr\"], errors=\"coerce\"\n",
    ")\n",
    "\n",
    "unmapped_df[\"productName\"] = unmapped_df[\"productName\"].fillna(\"\")\n",
    "unmapped_df[\"tBaustoffVersion\"] = unmapped_df[\"tBaustoffVersion\"].fillna(\n",
    "    \"2024-Q4\"\n",
    ")  # Simulated fallback\n",
    "unmapped_df[\"version_year\"] = (\n",
    "    unmapped_df[\"tBaustoffVersion\"].str.extract(r\"(\\d{4})\").astype(float)\n",
    ")\n",
    "\n",
    "# Vectorize names\n",
    "name_vectorizer = TfidfVectorizer().fit(\n",
    "    generic_all_years_df[\"Name (en)\"].tolist() + unmapped_df[\"productName\"].tolist()\n",
    ")\n",
    "generic_vectors = name_vectorizer.transform(generic_all_years_df[\"Name (en)\"])\n",
    "\n",
    "# Loop through each unmapped entry\n",
    "matches = []\n",
    "\n",
    "for idx, row in unmapped_df.iterrows():\n",
    "    specific_name = row[\"productName\"]\n",
    "    year = row[\"version_year\"]\n",
    "    unit = \"kg\"  # Simulated; replace if actual value available\n",
    "\n",
    "    specific_vector = name_vectorizer.transform([specific_name])\n",
    "    name_similarities = cosine_similarity(specific_vector, generic_vectors).flatten()\n",
    "\n",
    "    temp_df = generic_all_years_df.copy()\n",
    "    temp_df[\"Specific_Name\"] = specific_name\n",
    "    temp_df[\"Name_Similarity\"] = name_similarities\n",
    "    temp_df[\"Year_Match\"] = temp_df[\"Referenzjahr\"].apply(\n",
    "        lambda x: 1 if pd.notna(x) and abs(x - year) <= 2 else 0\n",
    "    )\n",
    "    temp_df[\"Unit_Match\"] = (temp_df[\"Bezugseinheit\"] == unit).astype(int)\n",
    "\n",
    "    temp_df[\"Final_Score\"] = (\n",
    "        0.4 * temp_df[\"Name_Similarity\"]\n",
    "        + 0.1 * temp_df[\"Year_Match\"]\n",
    "        + 0.2 * temp_df[\"Unit_Match\"]\n",
    "    )\n",
    "\n",
    "    top_match = temp_df.sort_values(by=\"Final_Score\", ascending=False).head(1)\n",
    "    matches.append(top_match)\n",
    "\n",
    "# Combine results\n",
    "top_matches_df = pd.concat(matches, ignore_index=True)\n",
    "\n",
    "# Save or display final results\n",
    "top_matches_df[\n",
    "    [\n",
    "        \"Specific_Name\",\n",
    "        \"UUID\",\n",
    "        \"Name (en)\",\n",
    "        \"Name_Similarity\",\n",
    "        \"Year_Match\",\n",
    "        \"Unit_Match\",\n",
    "        \"Final_Score\",\n",
    "    ]\n",
    "].to_csv(\"top_matches.csv\", index=False)\n",
    "print(\"Matching complete. Results saved to 'top_matches.csv'.\")\n",
    "\n",
    "matches_df = pd.read_csv(\"top_matches.csv\")\n",
    "matches_df.head(2)"
   ]
  },
  {
   "cell_type": "markdown",
   "id": "7d900274-7216-4ffa-95e4-cec752220cf3",
   "metadata": {},
   "source": [
    "## step 3 Best match with Sentence Embedding"
   ]
  },
  {
   "cell_type": "code",
   "execution_count": 35,
   "id": "428e913b-9bfb-4a2e-8a28-e93372c08b7d",
   "metadata": {},
   "outputs": [
    {
     "name": "stdout",
     "output_type": "stream",
     "text": [
      "Requirement already satisfied: sentence-transformers in c:\\users\\asus\\anaconda3\\lib\\site-packages (4.1.0)\n",
      "Requirement already satisfied: transformers<5.0.0,>=4.41.0 in c:\\users\\asus\\anaconda3\\lib\\site-packages (from sentence-transformers) (4.51.3)\n",
      "Requirement already satisfied: tqdm in c:\\users\\asus\\anaconda3\\lib\\site-packages (from sentence-transformers) (4.66.4)\n",
      "Requirement already satisfied: torch>=1.11.0 in c:\\users\\asus\\anaconda3\\lib\\site-packages (from sentence-transformers) (2.6.0)\n",
      "Requirement already satisfied: scikit-learn in c:\\users\\asus\\anaconda3\\lib\\site-packages (from sentence-transformers) (1.4.2)\n",
      "Requirement already satisfied: scipy in c:\\users\\asus\\anaconda3\\lib\\site-packages (from sentence-transformers) (1.13.1)\n",
      "Requirement already satisfied: huggingface-hub>=0.20.0 in c:\\users\\asus\\anaconda3\\lib\\site-packages (from sentence-transformers) (0.30.2)\n",
      "Requirement already satisfied: Pillow in c:\\users\\asus\\anaconda3\\lib\\site-packages (from sentence-transformers) (10.3.0)\n",
      "Requirement already satisfied: typing_extensions>=4.5.0 in c:\\users\\asus\\anaconda3\\lib\\site-packages (from sentence-transformers) (4.11.0)\n",
      "Requirement already satisfied: filelock in c:\\users\\asus\\anaconda3\\lib\\site-packages (from huggingface-hub>=0.20.0->sentence-transformers) (3.13.1)\n",
      "Requirement already satisfied: fsspec>=2023.5.0 in c:\\users\\asus\\anaconda3\\lib\\site-packages (from huggingface-hub>=0.20.0->sentence-transformers) (2024.3.1)\n",
      "Requirement already satisfied: packaging>=20.9 in c:\\users\\asus\\anaconda3\\lib\\site-packages (from huggingface-hub>=0.20.0->sentence-transformers) (23.2)\n",
      "Requirement already satisfied: pyyaml>=5.1 in c:\\users\\asus\\anaconda3\\lib\\site-packages (from huggingface-hub>=0.20.0->sentence-transformers) (6.0.1)\n",
      "Requirement already satisfied: requests in c:\\users\\asus\\anaconda3\\lib\\site-packages (from huggingface-hub>=0.20.0->sentence-transformers) (2.32.2)\n",
      "Requirement already satisfied: networkx in c:\\users\\asus\\anaconda3\\lib\\site-packages (from torch>=1.11.0->sentence-transformers) (3.2.1)\n",
      "Requirement already satisfied: jinja2 in c:\\users\\asus\\anaconda3\\lib\\site-packages (from torch>=1.11.0->sentence-transformers) (3.1.4)\n",
      "Requirement already satisfied: setuptools in c:\\users\\asus\\anaconda3\\lib\\site-packages (from torch>=1.11.0->sentence-transformers) (69.5.1)\n",
      "Requirement already satisfied: sympy==1.13.1 in c:\\users\\asus\\anaconda3\\lib\\site-packages (from torch>=1.11.0->sentence-transformers) (1.13.1)\n",
      "Requirement already satisfied: mpmath<1.4,>=1.1.0 in c:\\users\\asus\\anaconda3\\lib\\site-packages (from sympy==1.13.1->torch>=1.11.0->sentence-transformers) (1.3.0)\n",
      "Requirement already satisfied: colorama in c:\\users\\asus\\anaconda3\\lib\\site-packages (from tqdm->sentence-transformers) (0.4.6)\n",
      "Requirement already satisfied: numpy>=1.17 in c:\\users\\asus\\anaconda3\\lib\\site-packages (from transformers<5.0.0,>=4.41.0->sentence-transformers) (1.26.4)\n",
      "Requirement already satisfied: regex!=2019.12.17 in c:\\users\\asus\\anaconda3\\lib\\site-packages (from transformers<5.0.0,>=4.41.0->sentence-transformers) (2023.10.3)\n",
      "Requirement already satisfied: tokenizers<0.22,>=0.21 in c:\\users\\asus\\anaconda3\\lib\\site-packages (from transformers<5.0.0,>=4.41.0->sentence-transformers) (0.21.1)\n",
      "Requirement already satisfied: safetensors>=0.4.3 in c:\\users\\asus\\anaconda3\\lib\\site-packages (from transformers<5.0.0,>=4.41.0->sentence-transformers) (0.5.3)\n",
      "Requirement already satisfied: joblib>=1.2.0 in c:\\users\\asus\\anaconda3\\lib\\site-packages (from scikit-learn->sentence-transformers) (1.4.2)\n",
      "Requirement already satisfied: threadpoolctl>=2.0.0 in c:\\users\\asus\\anaconda3\\lib\\site-packages (from scikit-learn->sentence-transformers) (2.2.0)\n",
      "Requirement already satisfied: MarkupSafe>=2.0 in c:\\users\\asus\\anaconda3\\lib\\site-packages (from jinja2->torch>=1.11.0->sentence-transformers) (2.1.3)\n",
      "Requirement already satisfied: charset-normalizer<4,>=2 in c:\\users\\asus\\anaconda3\\lib\\site-packages (from requests->huggingface-hub>=0.20.0->sentence-transformers) (2.0.4)\n",
      "Requirement already satisfied: idna<4,>=2.5 in c:\\users\\asus\\anaconda3\\lib\\site-packages (from requests->huggingface-hub>=0.20.0->sentence-transformers) (3.7)\n",
      "Requirement already satisfied: urllib3<3,>=1.21.1 in c:\\users\\asus\\anaconda3\\lib\\site-packages (from requests->huggingface-hub>=0.20.0->sentence-transformers) (2.2.2)\n",
      "Requirement already satisfied: certifi>=2017.4.17 in c:\\users\\asus\\anaconda3\\lib\\site-packages (from requests->huggingface-hub>=0.20.0->sentence-transformers) (2024.8.30)\n"
     ]
    }
   ],
   "source": [
    "!pip install sentence-transformers"
   ]
  },
  {
   "cell_type": "code",
   "execution_count": 37,
   "id": "e06cd1c2-931a-4cce-b43b-5551800e497d",
   "metadata": {},
   "outputs": [],
   "source": [
    "from sentence_transformers import SentenceTransformer, util"
   ]
  },
  {
   "cell_type": "code",
   "execution_count": 39,
   "id": "cc53f330-5048-4f65-b2ac-e0963582f418",
   "metadata": {},
   "outputs": [],
   "source": [
    "from sentence_transformers import SentenceTransformer\n",
    "\n",
    "model = SentenceTransformer(\"paraphrase-MiniLM-L6-v2\")"
   ]
  },
  {
   "cell_type": "code",
   "execution_count": 47,
   "id": "69a9f879-25a2-4a82-b9f0-0fa36f122cbe",
   "metadata": {},
   "outputs": [
    {
     "name": "stdout",
     "output_type": "stream",
     "text": [
      "✅ Semantic matching complete! Saved to 'semantic_matches.csv'.\n"
     ]
    }
   ],
   "source": [
    "# Load data\n",
    "generic_df = generic_all_years_df.copy()  # should contain 'Name (en)' or 'Name (de)'\n",
    "unmapped_df = unmapped_df.copy()  # should contain 'productName'\n",
    "\n",
    "# Fill missing values\n",
    "generic_df[\"Name (en)\"] = generic_df[\"Name (en)\"].fillna(\"\")\n",
    "unmapped_df[\"productName\"] = unmapped_df[\"productName\"].fillna(\"\")\n",
    "\n",
    "# Load sentence embedding model\n",
    "model = SentenceTransformer(\"paraphrase-MiniLM-L6-v2\")\n",
    "\n",
    "# Encode all generic names once\n",
    "generic_names = generic_df[\"Name (en)\"].tolist()\n",
    "generic_embeddings = model.encode(generic_names, convert_to_tensor=True)\n",
    "\n",
    "# Store best matches\n",
    "matches = []\n",
    "\n",
    "# Loop through each unmapped tBaustoff entry\n",
    "for _, row in unmapped_df.iterrows():\n",
    "    specific_name = row[\"productName\"]\n",
    "    specific_embedding = model.encode(specific_name, convert_to_tensor=True)\n",
    "\n",
    "    # Calculate cosine similarity\n",
    "    cosine_scores = util.cos_sim(specific_embedding, generic_embeddings)[0]\n",
    "\n",
    "    # Get top 3 matches\n",
    "    top_indices = cosine_scores.topk(k=3).indices.tolist()\n",
    "\n",
    "    for idx in top_indices:\n",
    "        matches.append(\n",
    "            {\n",
    "                \"Specific_Name\": specific_name,\n",
    "                \"Matched_Generic_Name\": generic_df.iloc[idx][\"Name (en)\"],\n",
    "                \"Generic_UUID\": generic_df.iloc[idx][\"UUID\"],\n",
    "                \"Score\": cosine_scores[idx].item(),\n",
    "            }\n",
    "        )\n",
    "\n",
    "# Save to DataFrame\n",
    "results_df = pd.DataFrame(matches)\n",
    "results_df.to_csv(\"semantic_matches.csv\", index=False)\n",
    "print(\"✅ Semantic matching complete! Saved to 'semantic_matches.csv'.\")"
   ]
  },
  {
   "cell_type": "code",
   "execution_count": 49,
   "id": "d921f018-5fa3-4372-b8da-eb704f9e3272",
   "metadata": {},
   "outputs": [
    {
     "name": "stdout",
     "output_type": "stream",
     "text": [
      "✅ Normalized semantic matching complete! Saved to 'semantic_matches_normalized.csv'.\n"
     ]
    }
   ],
   "source": [
    "# Normalize scores\n",
    "results_df[\"Normalized_Score\"] = (results_df[\"Score\"] - results_df[\"Score\"].min()) / (\n",
    "    results_df[\"Score\"].max() - results_df[\"Score\"].min()\n",
    ")\n",
    "\n",
    "# Save updated results\n",
    "results_df.to_csv(\"semantic_matches_normalized.csv\", index=False)\n",
    "\n",
    "print(\n",
    "    \"✅ Normalized semantic matching complete! Saved to 'semantic_matches_normalized.csv'.\"\n",
    ")"
   ]
  },
  {
   "cell_type": "code",
   "execution_count": null,
   "id": "f6151e5d-0d41-45b2-9ea5-51aa250a44f4",
   "metadata": {},
   "outputs": [],
   "source": []
  },
  {
   "cell_type": "code",
   "execution_count": null,
   "id": "8fd77c0c-573d-4f38-873d-59fed1fc1865",
   "metadata": {},
   "outputs": [],
   "source": []
  }
 ],
 "metadata": {
  "kernelspec": {
   "display_name": "Python 3 (ipykernel)",
   "language": "python",
   "name": "python3"
  },
  "language_info": {
   "codemirror_mode": {
    "name": "ipython",
    "version": 3
   },
   "file_extension": ".py",
   "mimetype": "text/x-python",
   "name": "python",
   "nbconvert_exporter": "python",
   "pygments_lexer": "ipython3",
   "version": "3.12.4"
  }
 },
 "nbformat": 4,
 "nbformat_minor": 5
}
