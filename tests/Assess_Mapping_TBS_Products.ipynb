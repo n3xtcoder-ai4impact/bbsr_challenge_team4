{
 "cells": [
  {
   "cell_type": "code",
   "execution_count": 1,
   "id": "6765178f",
   "metadata": {},
   "outputs": [],
   "source": [
    "import pandas as pd"
   ]
  },
  {
   "cell_type": "code",
   "execution_count": null,
   "id": "2553aa45",
   "metadata": {},
   "outputs": [],
   "source": [
    "# Display all available columns in the dataframes\n",
    "pd.set_option(\"display.max_columns\", None)"
   ]
  },
  {
   "cell_type": "markdown",
   "id": "10738e46",
   "metadata": {},
   "source": [
    "### load TBS dataset to be mapped"
   ]
  },
  {
   "cell_type": "code",
   "execution_count": 114,
   "id": "a2c04b8f",
   "metadata": {},
   "outputs": [
    {
     "name": "stdout",
     "output_type": "stream",
     "text": [
      "(260, 11)\n"
     ]
    },
    {
     "data": {
      "text/html": [
       "<div>\n",
       "<style scoped>\n",
       "    .dataframe tbody tr th:only-of-type {\n",
       "        vertical-align: middle;\n",
       "    }\n",
       "\n",
       "    .dataframe tbody tr th {\n",
       "        vertical-align: top;\n",
       "    }\n",
       "\n",
       "    .dataframe thead th {\n",
       "        text-align: right;\n",
       "    }\n",
       "</style>\n",
       "<table border=\"1\" class=\"dataframe\">\n",
       "  <thead>\n",
       "    <tr style=\"text-align: right;\">\n",
       "      <th></th>\n",
       "      <th>oekobaudatProcessUuid</th>\n",
       "      <th>oekobaudatDatastockUuid</th>\n",
       "      <th>oekobaudatDatastockName</th>\n",
       "      <th>productId</th>\n",
       "      <th>tBaustoffVersion</th>\n",
       "      <th>productName</th>\n",
       "      <th>eolCategoryId</th>\n",
       "      <th>eolCategoryName</th>\n",
       "      <th>eolScenarioUnbuiltReal</th>\n",
       "      <th>eolScenarioUnbuiltPotential</th>\n",
       "      <th>technologyFactor</th>\n",
       "    </tr>\n",
       "  </thead>\n",
       "  <tbody>\n",
       "    <tr>\n",
       "      <th>0</th>\n",
       "      <td>NaN</td>\n",
       "      <td>NaN</td>\n",
       "      <td>NaN</td>\n",
       "      <td>1</td>\n",
       "      <td>2024-Q4</td>\n",
       "      <td>Acetyliertes Holz</td>\n",
       "      <td>1</td>\n",
       "      <td>Holz - acetyliert</td>\n",
       "      <td>EV+</td>\n",
       "      <td>EV+</td>\n",
       "      <td>0.0</td>\n",
       "    </tr>\n",
       "  </tbody>\n",
       "</table>\n",
       "</div>"
      ],
      "text/plain": [
       "   oekobaudatProcessUuid  oekobaudatDatastockUuid  oekobaudatDatastockName  \\\n",
       "0                    NaN                      NaN                      NaN   \n",
       "\n",
       "   productId tBaustoffVersion         productName  eolCategoryId  \\\n",
       "0          1          2024-Q4  Acetyliertes Holz               1   \n",
       "\n",
       "     eolCategoryName eolScenarioUnbuiltReal eolScenarioUnbuiltPotential  \\\n",
       "0  Holz - acetyliert                    EV+                         EV+   \n",
       "\n",
       "   technologyFactor  \n",
       "0               0.0  "
      ]
     },
     "execution_count": 114,
     "metadata": {},
     "output_type": "execute_result"
    }
   ],
   "source": [
    "unmapped_df = pd.read_csv('Reference_results_UNmapped_TBS_products_with_OBD_genericUUIDs.csv', low_memory=False)\n",
    "\n",
    "print(unmapped_df.shape)\n",
    "unmapped_df.head(1)"
   ]
  },
  {
   "cell_type": "markdown",
   "id": "bc27fb63",
   "metadata": {},
   "source": [
    "### load OBD datasets to be used for the mapping"
   ]
  },
  {
   "cell_type": "code",
   "execution_count": 3,
   "id": "77a2c611",
   "metadata": {},
   "outputs": [
    {
     "name": "stdout",
     "output_type": "stream",
     "text": [
      "Total generic materials: 7991\n",
      "                                   UUID                             Name (en)  \\\n",
      "0  fa5119d5-b0b8-4774-9c23-928f6894bd50             Electricity grid mix 2018   \n",
      "1  a4fb9ec0-d5ae-414b-a0a1-2cf7f586022d  Precast concrete slab, ceiling, 40cm   \n",
      "2  3470c523-ffcd-48df-93ff-dedfde86572a     Precast concrete slab, wall, 40cm   \n",
      "3  ffff2074-fae0-4b5c-b801-af80f5ce633a                           Cable CAT 7   \n",
      "4  ffff2074-fae0-4b5c-b801-af80f5ce633a                           Cable CAT 7   \n",
      "\n",
      "               Typ  \n",
      "0  generic dataset  \n",
      "1  generic dataset  \n",
      "2  generic dataset  \n",
      "3  generic dataset  \n",
      "4  generic dataset  \n"
     ]
    }
   ],
   "source": [
    "obd_2020_df = pd.read_csv(r'C:\\Users\\Nutzer\\OneDrive\\CodeAcademyBerlin_Projects\\N3XTCODER_AI4Impact\\Data\\OBD\\OBD_2020_II.csv',\n",
    "                            sep=';', encoding='ISO-8859-1', low_memory=False)\n",
    "obd_2023_df = pd.read_csv(r'C:\\Users\\Nutzer\\OneDrive\\CodeAcademyBerlin_Projects\\N3XTCODER_AI4Impact\\Data\\OBD\\OBD_2023_I.csv',\n",
    "                            sep=';', encoding='ISO-8859-1', low_memory=False)\n",
    "obd_2024_df = pd.read_csv(r'C:\\Users\\Nutzer\\OneDrive\\CodeAcademyBerlin_Projects\\N3XTCODER_AI4Impact\\Data\\OBD\\OBD_2024_I.csv',\n",
    "                            sep=';', encoding='ISO-8859-1', low_memory=False)\n",
    "\n",
    "# Filter for only \"generic dataset\" entries\n",
    "generic_2020 = obd_2020_df[obd_2020_df['Typ'] == 'generic dataset']\n",
    "generic_2023 = obd_2023_df[obd_2023_df['Typ'] == 'generic dataset']\n",
    "generic_2024 = obd_2024_df[obd_2024_df['Typ'] == 'generic dataset']\n",
    "\n",
    "# Combine all generic materials into one DataFrame\n",
    "generic_all_years_df = pd.concat([generic_2020, generic_2023, generic_2024], ignore_index=True)\n",
    "\n",
    "# Optional: Save it to a CSV for review\n",
    "# generic_all_years_df.to_csv(\"generic_materials_combined.csv\", index=False, sep=';')\n",
    "\n",
    "# Print summary\n",
    "print(\"Total generic materials:\", len(generic_all_years_df))\n",
    "print(generic_all_years_df[['UUID', 'Name (en)', 'Typ']].head())"
   ]
  },
  {
   "cell_type": "markdown",
   "id": "adb1398b",
   "metadata": {},
   "source": [
    "### select method for vectors or embeddings"
   ]
  },
  {
   "cell_type": "code",
   "execution_count": 4,
   "id": "1b61ac56",
   "metadata": {},
   "outputs": [],
   "source": [
    "from sklearn.feature_extraction.text import TfidfVectorizer\n",
    "from sklearn.metrics.pairwise import cosine_similarity"
   ]
  },
  {
   "cell_type": "code",
   "execution_count": 115,
   "id": "35e4a3e3",
   "metadata": {},
   "outputs": [],
   "source": [
    "# Fill nulls\n",
    "generic_all_years_df['Name (en)'] = generic_all_years_df['Name (en)'].fillna('')\n",
    "generic_all_years_df['Bezugseinheit'] = generic_all_years_df['Bezugseinheit'].fillna('')\n",
    "generic_all_years_df['Referenzjahr'] = pd.to_numeric(generic_all_years_df['Referenzjahr'], errors='coerce')\n",
    "\n",
    "unmapped_df['productName'] = unmapped_df['productName'].fillna('')\n",
    "unmapped_df['tBaustoffVersion'] = unmapped_df['tBaustoffVersion'].fillna('2024-Q4')  # Simulated fallback\n",
    "unmapped_df['version_year'] = unmapped_df['tBaustoffVersion'].str.extract(r'(\\d{4})').astype(float)"
   ]
  },
  {
   "cell_type": "code",
   "execution_count": 116,
   "id": "96589d5d",
   "metadata": {},
   "outputs": [],
   "source": [
    "# Vectorize names\n",
    "name_vectorizer = TfidfVectorizer().fit(\n",
    "    generic_all_years_df['Name (en)'].tolist() + unmapped_df['productName'].tolist()\n",
    ")\n",
    "generic_vectors = name_vectorizer.transform(generic_all_years_df['Name (en)'])"
   ]
  },
  {
   "cell_type": "code",
   "execution_count": 117,
   "id": "358403c5",
   "metadata": {},
   "outputs": [],
   "source": [
    "# Loop through each unmapped entry\n",
    "matches = []\n",
    "\n",
    "for idx, row in unmapped_df.iterrows():\n",
    "    specific_name = row['productName']\n",
    "    year = row['version_year']\n",
    "    unit = 'kg'  # Simulated; replace if actual value available\n",
    "\n",
    "    specific_vector = name_vectorizer.transform([specific_name])\n",
    "    name_similarities = cosine_similarity(specific_vector, generic_vectors).flatten()\n",
    "\n",
    "    temp_df = generic_all_years_df.copy()\n",
    "    temp_df['Specific_Name'] = specific_name\n",
    "    temp_df['Name_Similarity'] = name_similarities\n",
    "    temp_df['Year_Match'] = temp_df['Referenzjahr'].apply(lambda x: 1 if pd.notna(x) and abs(x - year) <= 2 else 0)\n",
    "    temp_df['Unit_Match'] = (temp_df['Bezugseinheit'] == unit).astype(int)\n",
    "\n",
    "    temp_df['Final_Score'] = (\n",
    "        0.4 * temp_df['Name_Similarity'] +\n",
    "        0.1 * temp_df['Year_Match'] +\n",
    "        0.2 * temp_df['Unit_Match']\n",
    "    )\n",
    "\n",
    "    top_match = temp_df.sort_values(by='Final_Score', ascending=False).head(1)\n",
    "    matches.append(top_match)"
   ]
  },
  {
   "cell_type": "code",
   "execution_count": 118,
   "id": "fa364246",
   "metadata": {},
   "outputs": [],
   "source": [
    "# Combine results\n",
    "top_matches_df = pd.concat(matches, ignore_index=True)"
   ]
  },
  {
   "cell_type": "code",
   "execution_count": 119,
   "id": "0e9ce7dd",
   "metadata": {},
   "outputs": [
    {
     "data": {
      "text/html": [
       "<div>\n",
       "<style scoped>\n",
       "    .dataframe tbody tr th:only-of-type {\n",
       "        vertical-align: middle;\n",
       "    }\n",
       "\n",
       "    .dataframe tbody tr th {\n",
       "        vertical-align: top;\n",
       "    }\n",
       "\n",
       "    .dataframe thead th {\n",
       "        text-align: right;\n",
       "    }\n",
       "</style>\n",
       "<table border=\"1\" class=\"dataframe\">\n",
       "  <thead>\n",
       "    <tr style=\"text-align: right;\">\n",
       "      <th></th>\n",
       "      <th>Specific_Name</th>\n",
       "      <th>UUID</th>\n",
       "      <th>Name (en)</th>\n",
       "      <th>Name_Similarity</th>\n",
       "      <th>Year_Match</th>\n",
       "      <th>Unit_Match</th>\n",
       "      <th>Final_Score</th>\n",
       "    </tr>\n",
       "  </thead>\n",
       "  <tbody>\n",
       "    <tr>\n",
       "      <th>47</th>\n",
       "      <td>PVC Plastisol</td>\n",
       "      <td>658b2d08-fd24-4d43-a469-203d594b2278</td>\n",
       "      <td>PVC Plastisol</td>\n",
       "      <td>1.000000</td>\n",
       "      <td>1</td>\n",
       "      <td>1</td>\n",
       "      <td>0.700000</td>\n",
       "    </tr>\n",
       "    <tr>\n",
       "      <th>78</th>\n",
       "      <td>Sand 0/2</td>\n",
       "      <td>286b0072-1001-4e5f-baa2-282230755243</td>\n",
       "      <td>Sand 0/2</td>\n",
       "      <td>1.000000</td>\n",
       "      <td>1</td>\n",
       "      <td>1</td>\n",
       "      <td>0.700000</td>\n",
       "    </tr>\n",
       "    <tr>\n",
       "      <th>44</th>\n",
       "      <td>Bitumen Emulsion (40% Bitumen, 60% Wasser)</td>\n",
       "      <td>88c0f648-2316-4bbc-99b3-dbc636580088</td>\n",
       "      <td>Bitumen emulsion (40% bitumen, 60% water)</td>\n",
       "      <td>0.829710</td>\n",
       "      <td>1</td>\n",
       "      <td>1</td>\n",
       "      <td>0.631884</td>\n",
       "    </tr>\n",
       "    <tr>\n",
       "      <th>37</th>\n",
       "      <td>Blähton Sand</td>\n",
       "      <td>286b0072-1001-4e5f-baa2-282230755243</td>\n",
       "      <td>Sand 0/2</td>\n",
       "      <td>0.572326</td>\n",
       "      <td>1</td>\n",
       "      <td>1</td>\n",
       "      <td>0.528931</td>\n",
       "    </tr>\n",
       "    <tr>\n",
       "      <th>79</th>\n",
       "      <td>Sand 0/2 getrocknet</td>\n",
       "      <td>286b0072-1001-4e5f-baa2-282230755243</td>\n",
       "      <td>Sand 0/2</td>\n",
       "      <td>0.572326</td>\n",
       "      <td>1</td>\n",
       "      <td>1</td>\n",
       "      <td>0.528931</td>\n",
       "    </tr>\n",
       "    <tr>\n",
       "      <th>...</th>\n",
       "      <td>...</td>\n",
       "      <td>...</td>\n",
       "      <td>...</td>\n",
       "      <td>...</td>\n",
       "      <td>...</td>\n",
       "      <td>...</td>\n",
       "      <td>...</td>\n",
       "    </tr>\n",
       "    <tr>\n",
       "      <th>108</th>\n",
       "      <td>EPS-Hartschaumdämmung - Sz. RC als Schütt.</td>\n",
       "      <td>8f4e4fdb-fa6c-46b3-8680-57120c4bee5e</td>\n",
       "      <td>Cement (CEM III 42,5)</td>\n",
       "      <td>0.000000</td>\n",
       "      <td>1</td>\n",
       "      <td>1</td>\n",
       "      <td>0.300000</td>\n",
       "    </tr>\n",
       "    <tr>\n",
       "      <th>109</th>\n",
       "      <td>Expandierter Kork</td>\n",
       "      <td>8f4e4fdb-fa6c-46b3-8680-57120c4bee5e</td>\n",
       "      <td>Cement (CEM III 42,5)</td>\n",
       "      <td>0.000000</td>\n",
       "      <td>1</td>\n",
       "      <td>1</td>\n",
       "      <td>0.300000</td>\n",
       "    </tr>\n",
       "    <tr>\n",
       "      <th>110</th>\n",
       "      <td>XPS-Dämmstoff</td>\n",
       "      <td>8f4e4fdb-fa6c-46b3-8680-57120c4bee5e</td>\n",
       "      <td>Cement (CEM III 42,5)</td>\n",
       "      <td>0.000000</td>\n",
       "      <td>1</td>\n",
       "      <td>1</td>\n",
       "      <td>0.300000</td>\n",
       "    </tr>\n",
       "    <tr>\n",
       "      <th>111</th>\n",
       "      <td>Faserverstärkte Spachtelmasse</td>\n",
       "      <td>8f4e4fdb-fa6c-46b3-8680-57120c4bee5e</td>\n",
       "      <td>Cement (CEM III 42,5)</td>\n",
       "      <td>0.000000</td>\n",
       "      <td>1</td>\n",
       "      <td>1</td>\n",
       "      <td>0.300000</td>\n",
       "    </tr>\n",
       "    <tr>\n",
       "      <th>259</th>\n",
       "      <td>Zinkbleche</td>\n",
       "      <td>8f4e4fdb-fa6c-46b3-8680-57120c4bee5e</td>\n",
       "      <td>Cement (CEM III 42,5)</td>\n",
       "      <td>0.000000</td>\n",
       "      <td>1</td>\n",
       "      <td>1</td>\n",
       "      <td>0.300000</td>\n",
       "    </tr>\n",
       "  </tbody>\n",
       "</table>\n",
       "<p>260 rows × 7 columns</p>\n",
       "</div>"
      ],
      "text/plain": [
       "                                  Specific_Name  \\\n",
       "47                                PVC Plastisol   \n",
       "78                                     Sand 0/2   \n",
       "44   Bitumen Emulsion (40% Bitumen, 60% Wasser)   \n",
       "37                                 Blähton Sand   \n",
       "79                          Sand 0/2 getrocknet   \n",
       "..                                          ...   \n",
       "108  EPS-Hartschaumdämmung - Sz. RC als Schütt.   \n",
       "109                           Expandierter Kork   \n",
       "110                               XPS-Dämmstoff   \n",
       "111               Faserverstärkte Spachtelmasse   \n",
       "259                                  Zinkbleche   \n",
       "\n",
       "                                     UUID  \\\n",
       "47   658b2d08-fd24-4d43-a469-203d594b2278   \n",
       "78   286b0072-1001-4e5f-baa2-282230755243   \n",
       "44   88c0f648-2316-4bbc-99b3-dbc636580088   \n",
       "37   286b0072-1001-4e5f-baa2-282230755243   \n",
       "79   286b0072-1001-4e5f-baa2-282230755243   \n",
       "..                                    ...   \n",
       "108  8f4e4fdb-fa6c-46b3-8680-57120c4bee5e   \n",
       "109  8f4e4fdb-fa6c-46b3-8680-57120c4bee5e   \n",
       "110  8f4e4fdb-fa6c-46b3-8680-57120c4bee5e   \n",
       "111  8f4e4fdb-fa6c-46b3-8680-57120c4bee5e   \n",
       "259  8f4e4fdb-fa6c-46b3-8680-57120c4bee5e   \n",
       "\n",
       "                                     Name (en)  Name_Similarity  Year_Match  \\\n",
       "47                               PVC Plastisol         1.000000           1   \n",
       "78                                    Sand 0/2         1.000000           1   \n",
       "44   Bitumen emulsion (40% bitumen, 60% water)         0.829710           1   \n",
       "37                                    Sand 0/2         0.572326           1   \n",
       "79                                    Sand 0/2         0.572326           1   \n",
       "..                                         ...              ...         ...   \n",
       "108                      Cement (CEM III 42,5)         0.000000           1   \n",
       "109                      Cement (CEM III 42,5)         0.000000           1   \n",
       "110                      Cement (CEM III 42,5)         0.000000           1   \n",
       "111                      Cement (CEM III 42,5)         0.000000           1   \n",
       "259                      Cement (CEM III 42,5)         0.000000           1   \n",
       "\n",
       "     Unit_Match  Final_Score  \n",
       "47            1     0.700000  \n",
       "78            1     0.700000  \n",
       "44            1     0.631884  \n",
       "37            1     0.528931  \n",
       "79            1     0.528931  \n",
       "..          ...          ...  \n",
       "108           1     0.300000  \n",
       "109           1     0.300000  \n",
       "110           1     0.300000  \n",
       "111           1     0.300000  \n",
       "259           1     0.300000  \n",
       "\n",
       "[260 rows x 7 columns]"
      ]
     },
     "execution_count": 119,
     "metadata": {},
     "output_type": "execute_result"
    }
   ],
   "source": [
    "# display final results\n",
    "top_matches_df_2=top_matches_df[['Specific_Name', 'UUID', 'Name (en)', 'Name_Similarity', 'Year_Match', 'Unit_Match', 'Final_Score']]\n",
    "top_matches_df_2.sort_values(by='Final_Score', ascending=False)"
   ]
  },
  {
   "cell_type": "markdown",
   "id": "f8213c3e",
   "metadata": {},
   "source": [
    "### Assessment"
   ]
  },
  {
   "cell_type": "code",
   "execution_count": 130,
   "id": "aeb1650c",
   "metadata": {},
   "outputs": [
    {
     "data": {
      "text/plain": [
       "<matplotlib.legend.Legend at 0x2406b325df0>"
      ]
     },
     "execution_count": 130,
     "metadata": {},
     "output_type": "execute_result"
    },
    {
     "data": {
      "image/png": "[encoded data removed]",
      "text/plain": [
       "<Figure size 1000x600 with 1 Axes>"
      ]
     },
     "metadata": {},
     "output_type": "display_data"
    }
   ],
   "source": [
    "import matplotlib.pyplot as plt\n",
    "import numpy as np\n",
    "\n",
    "# Create the plot\n",
    "plt.figure(figsize=(10, 6))  # Adjust figure size as needed\n",
    "\n",
    "plt.scatter(top_matches_df_2.index, top_matches_df_2['Final_Score'], label=f'TF_IDF_Similarity_Score')\n",
    "# plt.plot(combined_Similarity_Score.index,  combined_Similarity_Score['TF_IDF_Similarity_Score'])\n",
    "\n",
    "# Calculate the mean of y-values\n",
    "mean_y = np.mean(top_matches_df_2['Final_Score'])\n",
    "median_y = np.median(top_matches_df_2['Final_Score'])\n",
    "\n",
    "# Add a horizontal line at the mean of y\n",
    "plt.axhline(y=mean_y, color='r', linestyle='--', label=f'Mean Final Score = {mean_y:.2f}')\n",
    "plt.axhline(y=median_y, color='orange', linestyle='--', label=f'Median Final Score = {median_y:.2f}')\n",
    "\n",
    "# Set the x-axis range to start from 0\n",
    "plt.xlim(0, len(top_matches_df_2) - 1)  # Assuming your index starts from 0\n",
    "# Set the y-axis range to 0 and 1\n",
    "plt.ylim(0, 1)\n",
    "\n",
    "# Get the current axes object\n",
    "ax = plt.gca()\n",
    "# Remove the top and right spines\n",
    "ax.spines['top'].set_visible(False)\n",
    "ax.spines['right'].set_visible(False)\n",
    "\n",
    "# Font sizes for various elements\n",
    "legend_fontsize = 13\n",
    "title_fontsize = 16\n",
    "axes_fontsize = 10\n",
    "\n",
    "# Label the axes\n",
    "plt.xlabel(\"Unmapped tBaustoff Products\", fontsize=axes_fontsize)\n",
    "plt.ylabel(\"Final Score\", fontsize=axes_fontsize)\n",
    "\n",
    "# Add a title\n",
    "plt.title(\"Similarity Final Score Comparison\", fontsize=title_fontsize)\n",
    "\n",
    "# Add a legend to distinguish the lines\n",
    "plt.legend(fontsize=legend_fontsize, frameon=False)"
   ]
  },
  {
   "cell_type": "code",
   "execution_count": 120,
   "id": "7ca43f19",
   "metadata": {},
   "outputs": [
    {
     "name": "stdout",
     "output_type": "stream",
     "text": [
      "Final score mean = 0.3292618519055585\n",
      "Final score median = 0.30000000000000004\n"
     ]
    }
   ],
   "source": [
    "# calculate overall score for the method\n",
    "overall_score_mean = top_matches_df_2['Final_Score'].mean()\n",
    "overall_score_median = top_matches_df_2['Final_Score'].median()\n",
    "\n",
    "print('Final score mean =',overall_score_mean)\n",
    "print('Final score median =',overall_score_median)"
   ]
  },
  {
   "cell_type": "markdown",
   "id": "51e6af6c",
   "metadata": {},
   "source": [
    "### compare matching with reality"
   ]
  },
  {
   "cell_type": "code",
   "execution_count": null,
   "id": "1160ca2f",
   "metadata": {},
   "outputs": [
    {
     "name": "stdout",
     "output_type": "stream",
     "text": [
      "(698, 11)\n"
     ]
    },
    {
     "data": {
      "text/html": [
       "<div>\n",
       "<style scoped>\n",
       "    .dataframe tbody tr th:only-of-type {\n",
       "        vertical-align: middle;\n",
       "    }\n",
       "\n",
       "    .dataframe tbody tr th {\n",
       "        vertical-align: top;\n",
       "    }\n",
       "\n",
       "    .dataframe thead th {\n",
       "        text-align: right;\n",
       "    }\n",
       "</style>\n",
       "<table border=\"1\" class=\"dataframe\">\n",
       "  <thead>\n",
       "    <tr style=\"text-align: right;\">\n",
       "      <th></th>\n",
       "      <th>oekobaudatProcessUuid</th>\n",
       "      <th>oekobaudatDatastockUuid</th>\n",
       "      <th>oekobaudatDatastockName</th>\n",
       "      <th>productId</th>\n",
       "      <th>tBaustoffVersion</th>\n",
       "      <th>productName</th>\n",
       "      <th>eolCategoryId</th>\n",
       "      <th>eolCategoryName</th>\n",
       "      <th>eolScenarioUnbuiltReal</th>\n",
       "      <th>eolScenarioUnbuiltPotential</th>\n",
       "      <th>technologyFactor</th>\n",
       "    </tr>\n",
       "  </thead>\n",
       "  <tbody>\n",
       "    <tr>\n",
       "      <th>0</th>\n",
       "      <td>3b1f0c75-07a4-4182-b310-5529fc5b54a6</td>\n",
       "      <td>22885a6e-1765-4ade-a35e-ae668bd07256</td>\n",
       "      <td>OBD_2023_I</td>\n",
       "      <td>1</td>\n",
       "      <td>2024-Q4</td>\n",
       "      <td>Acetyliertes Holz</td>\n",
       "      <td>1</td>\n",
       "      <td>Holz - acetyliert</td>\n",
       "      <td>EV+</td>\n",
       "      <td>EV+</td>\n",
       "      <td>0.0</td>\n",
       "    </tr>\n",
       "  </tbody>\n",
       "</table>\n",
       "</div>"
      ],
      "text/plain": [
       "                  oekobaudatProcessUuid               oekobaudatDatastockUuid  \\\n",
       "0  3b1f0c75-07a4-4182-b310-5529fc5b54a6  22885a6e-1765-4ade-a35e-ae668bd07256   \n",
       "\n",
       "  oekobaudatDatastockName  productId tBaustoffVersion         productName  \\\n",
       "0              OBD_2023_I          1          2024-Q4  Acetyliertes Holz    \n",
       "\n",
       "   eolCategoryId    eolCategoryName eolScenarioUnbuiltReal  \\\n",
       "0              1  Holz - acetyliert                    EV+   \n",
       "\n",
       "  eolScenarioUnbuiltPotential  technologyFactor  \n",
       "0                         EV+               0.0  "
      ]
     },
     "execution_count": 131,
     "metadata": {},
     "output_type": "execute_result"
    }
   ],
   "source": [
    "Reference_Mapped_df = pd.read_csv('Reference_results_mapped_TBS_products_with_OBD_genericUUIDs.csv', low_memory=False)\n",
    "print(Reference_Mapped_df.shape)\n",
    "Reference_Mapped_df.head(1)"
   ]
  },
  {
   "cell_type": "code",
   "execution_count": 159,
   "id": "f4cae849",
   "metadata": {},
   "outputs": [
    {
     "name": "stdout",
     "output_type": "stream",
     "text": [
      "(698, 18)\n"
     ]
    },
    {
     "data": {
      "text/html": [
       "<div>\n",
       "<style scoped>\n",
       "    .dataframe tbody tr th:only-of-type {\n",
       "        vertical-align: middle;\n",
       "    }\n",
       "\n",
       "    .dataframe tbody tr th {\n",
       "        vertical-align: top;\n",
       "    }\n",
       "\n",
       "    .dataframe thead th {\n",
       "        text-align: right;\n",
       "    }\n",
       "</style>\n",
       "<table border=\"1\" class=\"dataframe\">\n",
       "  <thead>\n",
       "    <tr style=\"text-align: right;\">\n",
       "      <th></th>\n",
       "      <th>oekobaudatProcessUuid</th>\n",
       "      <th>oekobaudatDatastockUuid</th>\n",
       "      <th>oekobaudatDatastockName</th>\n",
       "      <th>productId</th>\n",
       "      <th>tBaustoffVersion</th>\n",
       "      <th>productName</th>\n",
       "      <th>eolCategoryId</th>\n",
       "      <th>eolCategoryName</th>\n",
       "      <th>eolScenarioUnbuiltReal</th>\n",
       "      <th>eolScenarioUnbuiltPotential</th>\n",
       "      <th>technologyFactor</th>\n",
       "      <th>Specific_Name</th>\n",
       "      <th>UUID</th>\n",
       "      <th>Name (en)</th>\n",
       "      <th>Name_Similarity</th>\n",
       "      <th>Year_Match</th>\n",
       "      <th>Unit_Match</th>\n",
       "      <th>Final_Score</th>\n",
       "    </tr>\n",
       "  </thead>\n",
       "  <tbody>\n",
       "    <tr>\n",
       "      <th>0</th>\n",
       "      <td>3b1f0c75-07a4-4182-b310-5529fc5b54a6</td>\n",
       "      <td>22885a6e-1765-4ade-a35e-ae668bd07256</td>\n",
       "      <td>OBD_2023_I</td>\n",
       "      <td>1</td>\n",
       "      <td>2024-Q4</td>\n",
       "      <td>Acetyliertes Holz</td>\n",
       "      <td>1</td>\n",
       "      <td>Holz - acetyliert</td>\n",
       "      <td>EV+</td>\n",
       "      <td>EV+</td>\n",
       "      <td>0.0</td>\n",
       "      <td>Acetyliertes Holz</td>\n",
       "      <td>8f4e4fdb-fa6c-46b3-8680-57120c4bee5e</td>\n",
       "      <td>Cement (CEM III 42,5)</td>\n",
       "      <td>0.0</td>\n",
       "      <td>1</td>\n",
       "      <td>1</td>\n",
       "      <td>0.3</td>\n",
       "    </tr>\n",
       "  </tbody>\n",
       "</table>\n",
       "</div>"
      ],
      "text/plain": [
       "                  oekobaudatProcessUuid               oekobaudatDatastockUuid  \\\n",
       "0  3b1f0c75-07a4-4182-b310-5529fc5b54a6  22885a6e-1765-4ade-a35e-ae668bd07256   \n",
       "\n",
       "  oekobaudatDatastockName  productId tBaustoffVersion         productName  \\\n",
       "0              OBD_2023_I          1          2024-Q4  Acetyliertes Holz    \n",
       "\n",
       "   eolCategoryId    eolCategoryName eolScenarioUnbuiltReal  \\\n",
       "0              1  Holz - acetyliert                    EV+   \n",
       "\n",
       "  eolScenarioUnbuiltPotential  technologyFactor       Specific_Name  \\\n",
       "0                         EV+               0.0  Acetyliertes Holz    \n",
       "\n",
       "                                   UUID              Name (en)  \\\n",
       "0  8f4e4fdb-fa6c-46b3-8680-57120c4bee5e  Cement (CEM III 42,5)   \n",
       "\n",
       "   Name_Similarity  Year_Match  Unit_Match  Final_Score  \n",
       "0              0.0           1           1          0.3  "
      ]
     },
     "execution_count": 159,
     "metadata": {},
     "output_type": "execute_result"
    }
   ],
   "source": [
    "# map OBD into TBS\n",
    "combined_Reference_Mapped_df_with_matching = Reference_Mapped_df.merge(top_matches_df_2, left_on=['productName'], right_on=['Specific_Name'], how='left')\n",
    "print(combined_Reference_Mapped_df_with_matching.shape)\n",
    "combined_Reference_Mapped_df_with_matching.head(1)"
   ]
  },
  {
   "cell_type": "code",
   "execution_count": 158,
   "id": "42572252",
   "metadata": {},
   "outputs": [
    {
     "name": "stdout",
     "output_type": "stream",
     "text": [
      "rows to map 698\n",
      "unique UUID assigned 44\n",
      "matched UUID equal to Reality 20\n",
      "Success Matching Rate 0.02865329512893983\n"
     ]
    }
   ],
   "source": [
    "# \n",
    "print('rows to map',combined_Reference_Mapped_df_with_matching['productName'].count())\n",
    "print('unique UUID assigned',combined_Reference_Mapped_df_with_matching['UUID'].nunique())\n",
    "\n",
    "# matched UUID Vs Real Mapping\n",
    "combined_Reference_Mapped_df_with_matching['UUID_matched'] = combined_Reference_Mapped_df_with_matching['UUID']==combined_Reference_Mapped_df_with_matching['oekobaudatProcessUuid']\n",
    "match_count=combined_Reference_Mapped_df_with_matching[combined_Reference_Mapped_df_with_matching['UUID_matched']==True]\n",
    "print('matched UUID equal to Reality',len(match_count))\n",
    "print('Success Matching Rate',len(match_count)/combined_Reference_Mapped_df_with_matching['productName'].count())"
   ]
  },
  {
   "cell_type": "markdown",
   "id": "c4a4d11c",
   "metadata": {},
   "source": [
    "### considerations:\n",
    "\n",
    "in OBD datasets = remove UUIDs already found in TBS to avoid mapping the same UUID to different products in TBS \n",
    "During Mapping = we should ensure that the same UUID is not mapped more than once"
   ]
  }
 ],
 "metadata": {
  "kernelspec": {
   "display_name": "bbsr-challenge",
   "language": "python",
   "name": "python3"
  },
  "language_info": {
   "codemirror_mode": {
    "name": "ipython",
    "version": 3
   },
   "file_extension": ".py",
   "mimetype": "text/x-python",
   "name": "python",
   "nbconvert_exporter": "python",
   "pygments_lexer": "ipython3",
   "version": "3.8.20"
  }
 },
 "nbformat": 4,
 "nbformat_minor": 5
}
